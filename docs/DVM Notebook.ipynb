{
 "cells": [
  {
   "cell_type": "markdown",
   "metadata": {},
   "source": [
    "# Decentralized Voting Machine\n",
    "\n",
    "For years, the powerful and the rich have influenced (or) sometimes rigged the election. <br> Using a decentrialzed application instead a generic client-server architecture, our project aims at a genuine choice of leadership. <br> This type of arrangement makes it almost impossible for anyone to tamper or hack. It is with a great leader that a nation can prosper.\n",
    "\n",
    "## Problem Statement:\n",
    "\n",
    "Elections conducted using conventional methods have a threefold problem\n",
    "\n",
    "\n",
    "## 1. Prone to tampering/hacking \n",
    "\n",
    "<img src=\"https://cdn.cnn.com/cnnnext/dam/assets/161217110439-inside-the-russian-hack-on-us-election-00034024.jpg\">\n",
    "\n",
    "Even India has become victim to such attacks\n",
    "\n",
    "<img src=\"files/images/hack2.PNG\">\n",
    "\n",
    "## 2. Wastage of resources & money \n",
    "\n",
    "\n",
    "<img src=\"files/images/hack3.PNG\">\n",
    "\n",
    "## 3. Cost of Public Holiday & Convenience\n",
    "\n",
    "\n",
    "<img src=\"http://nation.lk/online/wp-content/uploads/2015/07/Public-Holidays-Around-the-World_IPS.jpg\">\n",
    "\n",
    "\n",
    "## So how can we solve it?\n",
    "\n",
    "## We are going to combine two powerful technologies - Blockchain + ML\n",
    "\n",
    "## Module 1 - UIDAI Validation\n",
    "\n",
    "Every user has to Login using their unique Aadhar ID and OTP. From these details such as \"Age\", \"Gender\", \"State\", \"City\" can be parsed.\n",
    "\n",
    "## Module 2 - Voting Smart Contract\n",
    "\n",
    "\n",
    "It further has four steps - \n",
    "\n",
    "Step 1 - Setting up Environment <br>\n",
    "Step 2 - Creating Voting Smart Contract <br>\n",
    "Step 3 - Interacting with the Contract via the Nodejs Console <br>\n",
    "Step 4 - Creating GUI interface <br>\n",
    "\n",
    "![alt text](\n",
    "https://cdn-images-1.medium.com/max/1440/1*y7Cdz1uGBGLxZ3ekIE13RA.png \"Logo Title Text 1\")\n"
   ]
  },
  {
   "cell_type": "markdown",
   "metadata": {},
   "source": [
    "## Step 1 - Setting up Environment\n",
    "\n",
    "\n",
    "``npm install ethereumjs-testrpc web3``\n",
    "\n",
    "testrpc creates 10 test accounts to play with automatically. These accounts come preloaded with 100 (fake) ethers."
   ]
  },
  {
   "cell_type": "markdown",
   "metadata": {},
   "source": [
    "## Step 2 - Creating Voting Smart Contract\n",
    "\n",
    "- Ethereum's solidity programming language is used to write our contract \n",
    "- Our contract (think of contract as a class) is called Voting with a constructor which initializes an array of candidates\n",
    "- 2 functions, one to return the total votes a candidate has received & another to increment vote count for a candidate.\n",
    "- Deployed contracts are immutable. If any changes, we just make a new one. \n",
    "\n",
    "Install the dependencies on node console\n",
    "\n",
    "``npm install solc``\n",
    "\n",
    "After writing our smart contract, we'll use Web3js to deploy our app and interact with it\n",
    "\n",
    "```\n",
    "naman:~/DVM$ node\n",
    "> Web3 = require('web3')\n",
    "> web3 = new Web3(new Web3.providers.HttpProvider(\"http://localhost:8545\"));\n",
    "```\n",
    "\n",
    "Then ensure Web3js is initalized and can query all accounts on the blockchain\n",
    "\n",
    "```\n",
    "> web3.eth.accounts\n",
    "```\n",
    "\n",
    "Lastly, compile the contract by loading the code from Voting.sol in to a string variable and compiling it\n",
    "\n",
    "```\n",
    "> code = fs.readFileSync('Voting.sol').toString()\n",
    "> solc = require('solc')\n",
    "> compiledCode = solc.compile(code)\n",
    "```\n",
    "\n",
    "Deploy the contract!\n",
    "\n",
    "- dCode.contracts[‘:Voting’].bytecode: bytecode which will be deployed to the blockchain.\n",
    "- compiledCode.contracts[‘:Voting’].interface: interface of the contract (called abi) which tells the contract user what methods are available in the contract. \n",
    "\n",
    "```\n",
    "> abiDefinition = JSON.parse(compiledCode.contracts[':Voting'].interface)\n",
    "> VotingContract = web3.eth.contract(abiDefinition)\n",
    "> byteCode = compiledCode.contracts[':Voting'].bytecode\n",
    "> deployedContract = VotingContract.new(['Rahul Gandhi','Narendra Modi','Nitish Kumar'],{data: byteCode, from: web3.eth.accounts[0], gas: 4700000})\n",
    "> deployedContract.address\n",
    "> contractInstance = VotingContract.at(deployedContract.address)\n",
    "```\n",
    "\n",
    "- deployedContract.address. When you have to interact with your contract, you need this deployed address and abi definition we talked about earlier."
   ]
  },
  {
   "cell_type": "markdown",
   "metadata": {},
   "source": [
    "## Step 3 - Interacting with the Contract via the Nodejs Console\n",
    "```\n",
    "> contractInstance.totalVotesFor.call('Rahul Gandhi')\n",
    "{ [String: '0'] s: 1, e: 0, c: [ 0 ] }\n",
    "> contractInstance.voteForCandidate('Rahul Gandhi', {from: web3.eth.accounts[0]})\n",
    "'0xdedc7ae544c3dde74ab5a0b07422c5a51b5240603d31074f5b75c0ebc786bf53'\n",
    "> contractInstance.voteForCandidate('Rahul Gandhi', {from: web3.eth.accounts[0]})\n",
    "'0x02c054d238038d68b65d55770fabfca592a5cf6590229ab91bbe7cd72da46de9'\n",
    "> contractInstance.voteForCandidate('Rahul Gandhi', {from: web3.eth.accounts[0]})\n",
    "'0x3da069a09577514f2baaa11bc3015a16edf26aad28dffbcd126bde2e71f2b76f'\n",
    "> contractInstance.totalVotesFor.call('Rahul Gandhi').toLocaleString()\n",
    "'3'\n",
    "```"
   ]
  },
  {
   "cell_type": "markdown",
   "metadata": {},
   "source": [
    "## Step 4 - Creating GUI interface\n",
    "\n",
    "HTML + JS client is used for this purpose   \n"
   ]
  },
  {
   "cell_type": "markdown",
   "metadata": {
    "collapsed": true
   },
   "source": [
    "## Module 3 - Dashboard\n",
    "\n",
    "\n",
    "\n",
    "\n",
    "## Module 4 - Chatbot for Candidate enquiry\n",
    "\n",
    "\n",
    "\n",
    "\n",
    "\n",
    "## Module 5 - Using ML to extract people's opinion\n",
    "\n",
    "\n",
    "\n",
    "\n"
   ]
  },
  {
   "cell_type": "markdown",
   "metadata": {},
   "source": [
    "## Generic Decentralized app looks like this -  \n",
    "\n",
    "![alt text](\n",
    "https://cdn-images-1.medium.com/max/2000/1*AbPxypwGqabLrdu9EBf-iA.png  \"Logo Title Text 1\")"
   ]
  },
  {
   "cell_type": "markdown",
   "metadata": {},
   "source": [
    "## So what's next?\n",
    "\n",
    "1. Adding OCR to automate parsing\n",
    "2. Scaling \n",
    "3. Facilitation of Personal AI for specially abled people\n",
    "4. Increasing Robustness of Dashboard"
   ]
  },
  {
   "cell_type": "markdown",
   "metadata": {},
   "source": [
    "## Conclusion \n",
    "\n",
    "We mave not be a billion dollar product but our product will impact billion lives"
   ]
  },
  {
   "cell_type": "code",
   "execution_count": null,
   "metadata": {},
   "outputs": [],
   "source": []
  }
 ],
 "metadata": {
  "kernelspec": {
   "display_name": "Python 2",
   "language": "python",
   "name": "python2"
  },
  "language_info": {
   "codemirror_mode": {
    "name": "ipython",
    "version": 2
   },
   "file_extension": ".py",
   "mimetype": "text/x-python",
   "name": "python",
   "nbconvert_exporter": "python",
   "pygments_lexer": "ipython2",
   "version": "2.7.14"
  }
 },
 "nbformat": 4,
 "nbformat_minor": 2
}
